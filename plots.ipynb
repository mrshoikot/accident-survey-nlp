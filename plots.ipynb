{
 "cells": [
  {
   "cell_type": "code",
   "execution_count": null,
   "id": "34c9915a",
   "metadata": {},
   "outputs": [],
   "source": [
    "import numpy as np\n",
    "import pandas as pd\n",
    "import matplotlib.pyplot as plt\n"
   ]
  },
  {
   "cell_type": "code",
   "execution_count": null,
   "id": "b1411a7f",
   "metadata": {
    "scrolled": false
   },
   "outputs": [],
   "source": [
    "df = pd.read_csv('./output.csv')\n",
    "df['date'] = pd.to_datetime(df['date'])\n",
    "df"
   ]
  },
  {
   "cell_type": "code",
   "execution_count": null,
   "id": "fb16e93d",
   "metadata": {},
   "outputs": [],
   "source": [
    "vehicleGroup = df.groupby(['vehicle']).sum()\n",
    "vehicleGroup"
   ]
  },
  {
   "cell_type": "code",
   "execution_count": null,
   "id": "0f89cb55",
   "metadata": {},
   "outputs": [],
   "source": [
    "vehicleGroup.plot.pie(subplots=True,figsize=(20,20), autopct='%1.1f%%', startangle=100, fontsize=11)\n",
    "plt.show()"
   ]
  },
  {
   "cell_type": "code",
   "execution_count": null,
   "id": "04a04d34",
   "metadata": {},
   "outputs": [],
   "source": [
    "locationGroup = df.groupby(['location']).sum()\n",
    "locationGroup"
   ]
  },
  {
   "cell_type": "code",
   "execution_count": null,
   "id": "6968a15e",
   "metadata": {},
   "outputs": [],
   "source": [
    "locationGroup.plot.barh(y=['death', 'injury'], figsize=(15,10))\n",
    "plt.show()"
   ]
  },
  {
   "cell_type": "code",
   "execution_count": null,
   "id": "b07b6453",
   "metadata": {},
   "outputs": [],
   "source": [
    "df.plot(x='date', y=[\"death\", 'injury'], figsize=(15,10), style=\".\")"
   ]
  },
  {
   "cell_type": "code",
   "execution_count": null,
   "id": "57204e13",
   "metadata": {},
   "outputs": [],
   "source": [
    "DateGroup = df.groupby(df.date.dt.year).sum()\n",
    "DateGroup.plot.bar(figsize=(15,10))"
   ]
  },
  {
   "cell_type": "code",
   "execution_count": null,
   "id": "f9e4cd0a",
   "metadata": {},
   "outputs": [],
   "source": [
    "CountGroup = df.groupby('vehicle').size()\n",
    "CountGroup.plot()"
   ]
  },
  {
   "cell_type": "code",
   "execution_count": null,
   "id": "ace5664c",
   "metadata": {},
   "outputs": [],
   "source": [
    "CountGroup = df.groupby('location').size()\n",
    "CountGroup.plot(figsize=(15,10))"
   ]
  }
 ],
 "metadata": {
  "kernelspec": {
   "display_name": "Python 3 (ipykernel)",
   "language": "python",
   "name": "python3"
  },
  "language_info": {
   "codemirror_mode": {
    "name": "ipython",
    "version": 3
   },
   "file_extension": ".py",
   "mimetype": "text/x-python",
   "name": "python",
   "nbconvert_exporter": "python",
   "pygments_lexer": "ipython3",
   "version": "3.10.6"
  },
  "vscode": {
   "interpreter": {
    "hash": "916dbcbb3f70747c44a77c7bcd40155683ae19c65e1c03b4aa3499c5328201f1"
   }
  }
 },
 "nbformat": 4,
 "nbformat_minor": 5
}
